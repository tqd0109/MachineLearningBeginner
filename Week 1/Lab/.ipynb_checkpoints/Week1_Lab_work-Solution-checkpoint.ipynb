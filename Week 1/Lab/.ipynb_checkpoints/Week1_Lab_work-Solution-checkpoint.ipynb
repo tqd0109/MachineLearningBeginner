{
 "cells": [
  {
   "cell_type": "markdown",
   "metadata": {
    "colab_type": "text",
    "id": "g82eI8KNGykn"
   },
   "source": [
    "# SF Salaries Exercise \n",
    "\n",
    "Explore San Francisco city employee salary data.\n",
    "\n",
    "## Overview\n",
    "\n",
    "One way to understand how a city government works is by looking at who it employs and how its employees are compensated. This data contains the names, job title, and compensation for San Francisco city employees on an annual basis from 2011 to 2014.\n",
    "\n",
    "\n",
    "\n",
    "Just follow along and complete the tasks outlined in bold below. The tasks will get harder and harder as you go along.\n",
    "\n",
    "## Recap\n",
    "[url to image](https://i.imgur.com/BTOosvZ.jpg)\n",
    "![Alt img](https://i.imgur.com/BTOosvZ.jpg)"
   ]
  },
  {
   "cell_type": "markdown",
   "metadata": {
    "colab_type": "text",
    "id": "UBmS_N1pGyk1"
   },
   "source": [
    "** Import pandas as pd. Import seaborn as sns**"
   ]
  },
  {
   "cell_type": "code",
   "execution_count": 2,
   "metadata": {
    "colab": {},
    "colab_type": "code",
    "id": "dYoDc9M_Gyk7"
   },
   "outputs": [],
   "source": [
    "import pandas as pd\n",
    "import seaborn as sns"
   ]
  },
  {
   "cell_type": "markdown",
   "metadata": {
    "colab_type": "text",
    "id": "l60fSvpKGylM"
   },
   "source": [
    "** Read Salaries.csv as a dataframe called sal.**"
   ]
  },
  {
   "cell_type": "code",
   "execution_count": 3,
   "metadata": {
    "colab": {},
    "colab_type": "code",
    "id": "rut7gUIIGylP"
   },
   "outputs": [],
   "source": [
    "sal = pd.read_csv('./Salaries.csv')"
   ]
  },
  {
   "cell_type": "markdown",
   "metadata": {
    "colab_type": "text",
    "id": "j0C0MXwtGylX"
   },
   "source": [
    "** Check the head of the DataFrame. **"
   ]
  },
  {
   "cell_type": "code",
   "execution_count": 4,
   "metadata": {
    "colab": {},
    "colab_type": "code",
    "id": "FmobmnWlGyla",
    "outputId": "da0ea0e1-9469-4982-dbc0-a6183fcbaf9b"
   },
   "outputs": [
    {
     "data": {
      "text/html": [
       "<div>\n",
       "<style scoped>\n",
       "    .dataframe tbody tr th:only-of-type {\n",
       "        vertical-align: middle;\n",
       "    }\n",
       "\n",
       "    .dataframe tbody tr th {\n",
       "        vertical-align: top;\n",
       "    }\n",
       "\n",
       "    .dataframe thead th {\n",
       "        text-align: right;\n",
       "    }\n",
       "</style>\n",
       "<table border=\"1\" class=\"dataframe\">\n",
       "  <thead>\n",
       "    <tr style=\"text-align: right;\">\n",
       "      <th></th>\n",
       "      <th>Id</th>\n",
       "      <th>EmployeeName</th>\n",
       "      <th>JobTitle</th>\n",
       "      <th>BasePay</th>\n",
       "      <th>OvertimePay</th>\n",
       "      <th>OtherPay</th>\n",
       "      <th>Benefits</th>\n",
       "      <th>TotalPay</th>\n",
       "      <th>TotalPayBenefits</th>\n",
       "      <th>Year</th>\n",
       "      <th>Notes</th>\n",
       "      <th>Agency</th>\n",
       "      <th>Status</th>\n",
       "    </tr>\n",
       "  </thead>\n",
       "  <tbody>\n",
       "    <tr>\n",
       "      <th>0</th>\n",
       "      <td>1</td>\n",
       "      <td>NATHANIEL FORD</td>\n",
       "      <td>GENERAL MANAGER-METROPOLITAN TRANSIT AUTHORITY</td>\n",
       "      <td>167411.18</td>\n",
       "      <td>0.00</td>\n",
       "      <td>400184.25</td>\n",
       "      <td>NaN</td>\n",
       "      <td>567595.43</td>\n",
       "      <td>567595.43</td>\n",
       "      <td>2011</td>\n",
       "      <td>NaN</td>\n",
       "      <td>San Francisco</td>\n",
       "      <td>NaN</td>\n",
       "    </tr>\n",
       "    <tr>\n",
       "      <th>1</th>\n",
       "      <td>2</td>\n",
       "      <td>GARY JIMENEZ</td>\n",
       "      <td>CAPTAIN III (POLICE DEPARTMENT)</td>\n",
       "      <td>155966.02</td>\n",
       "      <td>245131.88</td>\n",
       "      <td>137811.38</td>\n",
       "      <td>NaN</td>\n",
       "      <td>538909.28</td>\n",
       "      <td>538909.28</td>\n",
       "      <td>2011</td>\n",
       "      <td>NaN</td>\n",
       "      <td>San Francisco</td>\n",
       "      <td>NaN</td>\n",
       "    </tr>\n",
       "    <tr>\n",
       "      <th>2</th>\n",
       "      <td>3</td>\n",
       "      <td>ALBERT PARDINI</td>\n",
       "      <td>CAPTAIN III (POLICE DEPARTMENT)</td>\n",
       "      <td>212739.13</td>\n",
       "      <td>106088.18</td>\n",
       "      <td>16452.60</td>\n",
       "      <td>NaN</td>\n",
       "      <td>335279.91</td>\n",
       "      <td>335279.91</td>\n",
       "      <td>2011</td>\n",
       "      <td>NaN</td>\n",
       "      <td>San Francisco</td>\n",
       "      <td>NaN</td>\n",
       "    </tr>\n",
       "    <tr>\n",
       "      <th>3</th>\n",
       "      <td>4</td>\n",
       "      <td>CHRISTOPHER CHONG</td>\n",
       "      <td>WIRE ROPE CABLE MAINTENANCE MECHANIC</td>\n",
       "      <td>77916.00</td>\n",
       "      <td>56120.71</td>\n",
       "      <td>198306.90</td>\n",
       "      <td>NaN</td>\n",
       "      <td>332343.61</td>\n",
       "      <td>332343.61</td>\n",
       "      <td>2011</td>\n",
       "      <td>NaN</td>\n",
       "      <td>San Francisco</td>\n",
       "      <td>NaN</td>\n",
       "    </tr>\n",
       "    <tr>\n",
       "      <th>4</th>\n",
       "      <td>5</td>\n",
       "      <td>PATRICK GARDNER</td>\n",
       "      <td>DEPUTY CHIEF OF DEPARTMENT,(FIRE DEPARTMENT)</td>\n",
       "      <td>134401.60</td>\n",
       "      <td>9737.00</td>\n",
       "      <td>182234.59</td>\n",
       "      <td>NaN</td>\n",
       "      <td>326373.19</td>\n",
       "      <td>326373.19</td>\n",
       "      <td>2011</td>\n",
       "      <td>NaN</td>\n",
       "      <td>San Francisco</td>\n",
       "      <td>NaN</td>\n",
       "    </tr>\n",
       "  </tbody>\n",
       "</table>\n",
       "</div>"
      ],
      "text/plain": [
       "   Id       EmployeeName                                        JobTitle  \\\n",
       "0   1     NATHANIEL FORD  GENERAL MANAGER-METROPOLITAN TRANSIT AUTHORITY   \n",
       "1   2       GARY JIMENEZ                 CAPTAIN III (POLICE DEPARTMENT)   \n",
       "2   3     ALBERT PARDINI                 CAPTAIN III (POLICE DEPARTMENT)   \n",
       "3   4  CHRISTOPHER CHONG            WIRE ROPE CABLE MAINTENANCE MECHANIC   \n",
       "4   5    PATRICK GARDNER    DEPUTY CHIEF OF DEPARTMENT,(FIRE DEPARTMENT)   \n",
       "\n",
       "     BasePay  OvertimePay   OtherPay  Benefits   TotalPay  TotalPayBenefits  \\\n",
       "0  167411.18         0.00  400184.25       NaN  567595.43         567595.43   \n",
       "1  155966.02    245131.88  137811.38       NaN  538909.28         538909.28   \n",
       "2  212739.13    106088.18   16452.60       NaN  335279.91         335279.91   \n",
       "3   77916.00     56120.71  198306.90       NaN  332343.61         332343.61   \n",
       "4  134401.60      9737.00  182234.59       NaN  326373.19         326373.19   \n",
       "\n",
       "   Year  Notes         Agency  Status  \n",
       "0  2011    NaN  San Francisco     NaN  \n",
       "1  2011    NaN  San Francisco     NaN  \n",
       "2  2011    NaN  San Francisco     NaN  \n",
       "3  2011    NaN  San Francisco     NaN  \n",
       "4  2011    NaN  San Francisco     NaN  "
      ]
     },
     "execution_count": 4,
     "metadata": {},
     "output_type": "execute_result"
    }
   ],
   "source": [
    "sal.head()"
   ]
  },
  {
   "cell_type": "markdown",
   "metadata": {
    "colab_type": "text",
    "id": "9cQcD57qGylk"
   },
   "source": [
    "** Use the .info() method to find out how many entries there are.**"
   ]
  },
  {
   "cell_type": "code",
   "execution_count": 5,
   "metadata": {
    "colab": {},
    "colab_type": "code",
    "id": "ejHQy-V9Gylm",
    "outputId": "cdbc2531-b5ea-4712-d162-354176d09e37"
   },
   "outputs": [
    {
     "name": "stdout",
     "output_type": "stream",
     "text": [
      "<class 'pandas.core.frame.DataFrame'>\n",
      "RangeIndex: 148654 entries, 0 to 148653\n",
      "Data columns (total 13 columns):\n",
      "Id                  148654 non-null int64\n",
      "EmployeeName        148654 non-null object\n",
      "JobTitle            148654 non-null object\n",
      "BasePay             148045 non-null float64\n",
      "OvertimePay         148650 non-null float64\n",
      "OtherPay            148650 non-null float64\n",
      "Benefits            112491 non-null float64\n",
      "TotalPay            148654 non-null float64\n",
      "TotalPayBenefits    148654 non-null float64\n",
      "Year                148654 non-null int64\n",
      "Notes               0 non-null float64\n",
      "Agency              148654 non-null object\n",
      "Status              0 non-null float64\n",
      "dtypes: float64(8), int64(2), object(3)\n",
      "memory usage: 14.7+ MB\n"
     ]
    }
   ],
   "source": [
    "sal.info()"
   ]
  },
  {
   "cell_type": "markdown",
   "metadata": {
    "colab_type": "text",
    "id": "b355HwyDGyls"
   },
   "source": [
    "**What is the average BasePay ?**\n",
    "\n",
    "Hint: [mean()](https://pandas.pydata.org/pandas-docs/stable/generated/pandas.DataFrame.mean.html) function"
   ]
  },
  {
   "cell_type": "code",
   "execution_count": 6,
   "metadata": {
    "colab": {},
    "colab_type": "code",
    "id": "XOJoTNR2Gylv",
    "outputId": "9c3abf9a-4199-43ea-b5f5-d78620812abf"
   },
   "outputs": [
    {
     "data": {
      "text/plain": [
       "66325.4488404877"
      ]
     },
     "execution_count": 6,
     "metadata": {},
     "output_type": "execute_result"
    }
   ],
   "source": [
    "sal['BasePay'].mean()"
   ]
  },
  {
   "cell_type": "markdown",
   "metadata": {
    "colab_type": "text",
    "id": "QBoNBLLGGyl3"
   },
   "source": [
    "**What is the lowest and highest amount of BasePay?**\n",
    "\n",
    "Hint: \n",
    "[min()](https://pandas.pydata.org/pandas-docs/stable/generated/pandas.DataFrame.min.html) function , \n",
    "[max()](https://pandas.pydata.org/pandas-docs/stable/generated/pandas.DataFrame.max.html) function"
   ]
  },
  {
   "cell_type": "code",
   "execution_count": 7,
   "metadata": {
    "colab": {},
    "colab_type": "code",
    "id": "obRr1NcTGyl6",
    "outputId": "1f678b91-2f87-492c-cc6c-9ba37127e9ca"
   },
   "outputs": [
    {
     "data": {
      "text/plain": [
       "-166.01"
      ]
     },
     "execution_count": 7,
     "metadata": {},
     "output_type": "execute_result"
    }
   ],
   "source": [
    "sal['BasePay'].min()"
   ]
  },
  {
   "cell_type": "code",
   "execution_count": 8,
   "metadata": {
    "colab": {},
    "colab_type": "code",
    "id": "h1fp3YXWGymG",
    "outputId": "e4b43f9d-cf91-4775-fa91-d557fe64e2d9"
   },
   "outputs": [
    {
     "data": {
      "text/plain": [
       "319275.01"
      ]
     },
     "execution_count": 8,
     "metadata": {},
     "output_type": "execute_result"
    }
   ],
   "source": [
    "sal['BasePay'].max()"
   ]
  },
  {
   "cell_type": "markdown",
   "metadata": {
    "colab_type": "text",
    "id": "ghRCiXmDGymO"
   },
   "source": [
    "** How about OvertimePay in the dataset? What is the average, lowest, highest amount?**"
   ]
  },
  {
   "cell_type": "code",
   "execution_count": 9,
   "metadata": {
    "colab": {},
    "colab_type": "code",
    "id": "W1oiPfiHGymQ",
    "outputId": "53351009-3cd1-4f0b-925a-5237a246ef43"
   },
   "outputs": [
    {
     "data": {
      "text/plain": [
       "245131.88"
      ]
     },
     "execution_count": 9,
     "metadata": {},
     "output_type": "execute_result"
    }
   ],
   "source": [
    "# Your code here\n",
    "sal['OvertimePay'].mean()\n",
    "sal['OvertimePay'].min()\n",
    "sal['OvertimePay'].max()"
   ]
  },
  {
   "cell_type": "markdown",
   "metadata": {
    "colab_type": "text",
    "id": "lHlwapf5GymV"
   },
   "source": [
    "** What is the job title of  JOSEPH DRISCOLL ? Note: Use all caps, otherwise you may get an answer that doesn't match up (there is also a lowercase Joseph Driscoll). **"
   ]
  },
  {
   "cell_type": "code",
   "execution_count": 10,
   "metadata": {
    "colab": {},
    "colab_type": "code",
    "id": "sX1S2ht3GymX",
    "outputId": "0330db27-74e5-4374-d3b1-206a4979c393"
   },
   "outputs": [
    {
     "data": {
      "text/html": [
       "<div>\n",
       "<style scoped>\n",
       "    .dataframe tbody tr th:only-of-type {\n",
       "        vertical-align: middle;\n",
       "    }\n",
       "\n",
       "    .dataframe tbody tr th {\n",
       "        vertical-align: top;\n",
       "    }\n",
       "\n",
       "    .dataframe thead th {\n",
       "        text-align: right;\n",
       "    }\n",
       "</style>\n",
       "<table border=\"1\" class=\"dataframe\">\n",
       "  <thead>\n",
       "    <tr style=\"text-align: right;\">\n",
       "      <th></th>\n",
       "      <th>Id</th>\n",
       "      <th>EmployeeName</th>\n",
       "      <th>JobTitle</th>\n",
       "      <th>BasePay</th>\n",
       "      <th>OvertimePay</th>\n",
       "      <th>OtherPay</th>\n",
       "      <th>Benefits</th>\n",
       "      <th>TotalPay</th>\n",
       "      <th>TotalPayBenefits</th>\n",
       "      <th>Year</th>\n",
       "      <th>Notes</th>\n",
       "      <th>Agency</th>\n",
       "      <th>Status</th>\n",
       "    </tr>\n",
       "  </thead>\n",
       "  <tbody>\n",
       "    <tr>\n",
       "      <th>24</th>\n",
       "      <td>25</td>\n",
       "      <td>JOSEPH DRISCOLL</td>\n",
       "      <td>CAPTAIN, FIRE SUPPRESSION</td>\n",
       "      <td>140546.86</td>\n",
       "      <td>97868.77</td>\n",
       "      <td>31909.28</td>\n",
       "      <td>NaN</td>\n",
       "      <td>270324.91</td>\n",
       "      <td>270324.91</td>\n",
       "      <td>2011</td>\n",
       "      <td>NaN</td>\n",
       "      <td>San Francisco</td>\n",
       "      <td>NaN</td>\n",
       "    </tr>\n",
       "  </tbody>\n",
       "</table>\n",
       "</div>"
      ],
      "text/plain": [
       "    Id     EmployeeName                   JobTitle    BasePay  OvertimePay  \\\n",
       "24  25  JOSEPH DRISCOLL  CAPTAIN, FIRE SUPPRESSION  140546.86     97868.77   \n",
       "\n",
       "    OtherPay  Benefits   TotalPay  TotalPayBenefits  Year  Notes  \\\n",
       "24  31909.28       NaN  270324.91         270324.91  2011    NaN   \n",
       "\n",
       "           Agency  Status  \n",
       "24  San Francisco     NaN  "
      ]
     },
     "execution_count": 10,
     "metadata": {},
     "output_type": "execute_result"
    }
   ],
   "source": [
    "sal[sal['EmployeeName']==\"JOSEPH DRISCOLL\"]"
   ]
  },
  {
   "cell_type": "code",
   "execution_count": 11,
   "metadata": {
    "colab": {},
    "colab_type": "code",
    "id": "ac_qqMXDGymd",
    "outputId": "f7be4521-7819-47ad-fee9-51198afa9ae7"
   },
   "outputs": [
    {
     "data": {
      "text/html": [
       "<div>\n",
       "<style scoped>\n",
       "    .dataframe tbody tr th:only-of-type {\n",
       "        vertical-align: middle;\n",
       "    }\n",
       "\n",
       "    .dataframe tbody tr th {\n",
       "        vertical-align: top;\n",
       "    }\n",
       "\n",
       "    .dataframe thead th {\n",
       "        text-align: right;\n",
       "    }\n",
       "</style>\n",
       "<table border=\"1\" class=\"dataframe\">\n",
       "  <thead>\n",
       "    <tr style=\"text-align: right;\">\n",
       "      <th></th>\n",
       "      <th>Id</th>\n",
       "      <th>EmployeeName</th>\n",
       "      <th>JobTitle</th>\n",
       "      <th>BasePay</th>\n",
       "      <th>OvertimePay</th>\n",
       "      <th>OtherPay</th>\n",
       "      <th>Benefits</th>\n",
       "      <th>TotalPay</th>\n",
       "      <th>TotalPayBenefits</th>\n",
       "      <th>Year</th>\n",
       "      <th>Notes</th>\n",
       "      <th>Agency</th>\n",
       "      <th>Status</th>\n",
       "    </tr>\n",
       "  </thead>\n",
       "  <tbody>\n",
       "    <tr>\n",
       "      <th>1</th>\n",
       "      <td>2</td>\n",
       "      <td>GARY JIMENEZ</td>\n",
       "      <td>CAPTAIN III (POLICE DEPARTMENT)</td>\n",
       "      <td>155966.02</td>\n",
       "      <td>245131.88</td>\n",
       "      <td>137811.38</td>\n",
       "      <td>NaN</td>\n",
       "      <td>538909.28</td>\n",
       "      <td>538909.28</td>\n",
       "      <td>2011</td>\n",
       "      <td>NaN</td>\n",
       "      <td>San Francisco</td>\n",
       "      <td>NaN</td>\n",
       "    </tr>\n",
       "  </tbody>\n",
       "</table>\n",
       "</div>"
      ],
      "text/plain": [
       "   Id  EmployeeName                         JobTitle    BasePay  OvertimePay  \\\n",
       "1   2  GARY JIMENEZ  CAPTAIN III (POLICE DEPARTMENT)  155966.02    245131.88   \n",
       "\n",
       "    OtherPay  Benefits   TotalPay  TotalPayBenefits  Year  Notes  \\\n",
       "1  137811.38       NaN  538909.28         538909.28  2011    NaN   \n",
       "\n",
       "          Agency  Status  \n",
       "1  San Francisco     NaN  "
      ]
     },
     "execution_count": 11,
     "metadata": {},
     "output_type": "execute_result"
    }
   ],
   "source": [
    "# Now try to select Employes who have name \"GARY JIMENEZ\"\n",
    "# Your code here\n",
    "sal[sal['EmployeeName']==\"GARY JIMENEZ\"]"
   ]
  },
  {
   "cell_type": "markdown",
   "metadata": {
    "colab_type": "text",
    "id": "U8b_rhSAGymk"
   },
   "source": [
    "** How much does JOSEPH DRISCOLL make (including benefits)? **"
   ]
  },
  {
   "cell_type": "code",
   "execution_count": 12,
   "metadata": {
    "colab": {},
    "colab_type": "code",
    "id": "G-jqimDZGymm",
    "outputId": "1f6444de-1d78-47e4-e13c-5138f938380b"
   },
   "outputs": [
    {
     "data": {
      "text/plain": [
       "24    270324.91\n",
       "Name: TotalPayBenefits, dtype: float64"
      ]
     },
     "execution_count": 12,
     "metadata": {},
     "output_type": "execute_result"
    }
   ],
   "source": [
    "sal[sal['EmployeeName']==\"JOSEPH DRISCOLL\"]['TotalPayBenefits']"
   ]
  },
  {
   "cell_type": "markdown",
   "metadata": {
    "colab_type": "text",
    "id": "XRK791jEGymt"
   },
   "source": [
    "** What is the name of highest paid person (including benefits)?**"
   ]
  },
  {
   "cell_type": "code",
   "execution_count": 13,
   "metadata": {
    "colab": {},
    "colab_type": "code",
    "id": "5qy6xRNlGymv",
    "outputId": "e2a99975-f516-4ad5-8524-392d7f5ce532"
   },
   "outputs": [
    {
     "data": {
      "text/plain": [
       "0    NATHANIEL FORD\n",
       "Name: EmployeeName, dtype: object"
      ]
     },
     "execution_count": 13,
     "metadata": {},
     "output_type": "execute_result"
    }
   ],
   "source": [
    "sal[sal['TotalPayBenefits'] == sal['TotalPayBenefits'].max()]['EmployeeName']"
   ]
  },
  {
   "cell_type": "markdown",
   "metadata": {
    "colab_type": "text",
    "id": "H6rJ9KN6GynH"
   },
   "source": [
    "** What is the name of lowest paid person (including benefits)? Do you notice something strange about how much he or she is paid?**"
   ]
  },
  {
   "cell_type": "code",
   "execution_count": 14,
   "metadata": {
    "colab": {},
    "colab_type": "code",
    "id": "M55qUdxAGynJ",
    "outputId": "a95a5330-51b3-418b-9602-f00c213baf46"
   },
   "outputs": [
    {
     "data": {
      "text/plain": [
       "148653    Joe Lopez\n",
       "Name: EmployeeName, dtype: object"
      ]
     },
     "execution_count": 14,
     "metadata": {},
     "output_type": "execute_result"
    }
   ],
   "source": [
    "sal[sal['TotalPayBenefits'] == sal['TotalPayBenefits'].min()]['EmployeeName']"
   ]
  },
  {
   "cell_type": "markdown",
   "metadata": {
    "colab_type": "text",
    "id": "RkrKgEnqGynU"
   },
   "source": [
    "** What was the average (mean) BasePay of all employees per year? (2011-2014) ? **"
   ]
  },
  {
   "cell_type": "code",
   "execution_count": 15,
   "metadata": {
    "colab": {},
    "colab_type": "code",
    "id": "ygzuFynuGynV",
    "outputId": "5f4d882f-ea06-4194-fcb6-0787f00542ae"
   },
   "outputs": [
    {
     "data": {
      "text/plain": [
       "Year\n",
       "2011    63595.956517\n",
       "2012    65436.406857\n",
       "2013    69630.030216\n",
       "2014    66564.421924\n",
       "Name: BasePay, dtype: float64"
      ]
     },
     "execution_count": 15,
     "metadata": {},
     "output_type": "execute_result"
    }
   ],
   "source": [
    "sal.groupby('Year').mean()['BasePay']"
   ]
  },
  {
   "cell_type": "markdown",
   "metadata": {
    "colab_type": "text",
    "id": "jf_FiCGGGynb"
   },
   "source": [
    "** How many unique job titles are there? **"
   ]
  },
  {
   "cell_type": "code",
   "execution_count": 16,
   "metadata": {
    "colab": {},
    "colab_type": "code",
    "id": "B_JRsouwGync",
    "outputId": "73ade434-317d-4a05-c328-0ef26476e214"
   },
   "outputs": [
    {
     "data": {
      "text/plain": [
       "2159"
      ]
     },
     "execution_count": 16,
     "metadata": {},
     "output_type": "execute_result"
    }
   ],
   "source": [
    "sal['JobTitle'].nunique()"
   ]
  },
  {
   "cell_type": "markdown",
   "metadata": {
    "colab_type": "text",
    "id": "rxh3B6-eGynp"
   },
   "source": [
    "** What are the top 5 most common jobs? **"
   ]
  },
  {
   "cell_type": "code",
   "execution_count": 17,
   "metadata": {
    "colab": {},
    "colab_type": "code",
    "id": "UcDvXxX-Gynr",
    "outputId": "b74e0dd5-5d43-46b6-e5d5-cd48fc5f78f9"
   },
   "outputs": [
    {
     "data": {
      "text/plain": [
       "Transit Operator                7036\n",
       "Special Nurse                   4389\n",
       "Registered Nurse                3736\n",
       "Public Svc Aide-Public Works    2518\n",
       "Police Officer 3                2421\n",
       "Name: JobTitle, dtype: int64"
      ]
     },
     "execution_count": 17,
     "metadata": {},
     "output_type": "execute_result"
    }
   ],
   "source": [
    "sal['JobTitle'].value_counts().head(5)"
   ]
  },
  {
   "cell_type": "markdown",
   "metadata": {
    "colab_type": "text",
    "id": "XYuoXa0bGyny"
   },
   "source": [
    "** How many Job Titles were represented by only one person in 2013? (e.g. Job Titles with only one occurence in 2013?) **"
   ]
  },
  {
   "cell_type": "code",
   "execution_count": 18,
   "metadata": {
    "colab": {},
    "colab_type": "code",
    "id": "PiA_DTSdGyn0",
    "outputId": "70a17926-5181-409a-a98d-984b774e2337"
   },
   "outputs": [
    {
     "data": {
      "text/plain": [
       "202"
      ]
     },
     "execution_count": 18,
     "metadata": {},
     "output_type": "execute_result"
    }
   ],
   "source": [
    "sum(sal[sal['Year'] == 2013]['JobTitle'].value_counts() == 1)"
   ]
  },
  {
   "cell_type": "markdown",
   "metadata": {
    "colab_type": "text",
    "id": "Vm_4tD2DGyn8"
   },
   "source": [
    "** How many people have the word Chief in their job title? (This is pretty tricky) **"
   ]
  },
  {
   "cell_type": "code",
   "execution_count": 19,
   "metadata": {
    "colab": {},
    "colab_type": "code",
    "id": "oE0r_uxfGyoD"
   },
   "outputs": [],
   "source": [
    "def my_func(title):\n",
    "    if 'chief' in title.lower():\n",
    "        return True\n",
    "    else:\n",
    "        return False"
   ]
  },
  {
   "cell_type": "code",
   "execution_count": 20,
   "metadata": {
    "colab": {},
    "colab_type": "code",
    "id": "iT3CkzV6GyoK",
    "outputId": "55033b6e-5102-4e19-b0b1-c793570987a3"
   },
   "outputs": [
    {
     "data": {
      "text/plain": [
       "627"
      ]
     },
     "execution_count": 20,
     "metadata": {},
     "output_type": "execute_result"
    }
   ],
   "source": [
    "sum(sal['JobTitle'].map(my_func))"
   ]
  },
  {
   "cell_type": "code",
   "execution_count": 21,
   "metadata": {
    "colab": {},
    "colab_type": "code",
    "id": "2ZZTafNHGyoX",
    "outputId": "41ce357a-eb84-49e4-983b-6ab7183d8620"
   },
   "outputs": [
    {
     "data": {
      "text/plain": [
       "627"
      ]
     },
     "execution_count": 21,
     "metadata": {},
     "output_type": "execute_result"
    }
   ],
   "source": [
    "sum(sal['JobTitle'].str.lower().str.contains('chief'))"
   ]
  },
  {
   "cell_type": "code",
   "execution_count": null,
   "metadata": {
    "colab": {},
    "colab_type": "code",
    "id": "MnDGmMzDGyob",
    "outputId": "2395ec81-7a3e-4723-e3d9-3a386c0e12de"
   },
   "outputs": [],
   "source": []
  },
  {
   "cell_type": "markdown",
   "metadata": {
    "colab_type": "text",
    "id": "KhB2ffD_Gyol"
   },
   "source": [
    "## Data Visualization\n",
    "\n",
    "** Implement seaborn's countplot with x='Year' **"
   ]
  },
  {
   "cell_type": "code",
   "execution_count": 22,
   "metadata": {
    "colab": {},
    "colab_type": "code",
    "id": "kZ1JMF7BGyom",
    "outputId": "3006e88f-bfb3-4092-b125-0e7e4ba68522"
   },
   "outputs": [
    {
     "data": {
      "text/plain": [
       "<matplotlib.axes._subplots.AxesSubplot at 0x1a2011b5f8>"
      ]
     },
     "execution_count": 22,
     "metadata": {},
     "output_type": "execute_result"
    },
    {
     "data": {
      "image/png": "[encoded data removed]",
      "text/plain": [
       "<Figure size 432x288 with 1 Axes>"
      ]
     },
     "metadata": {
      "needs_background": "light"
     },
     "output_type": "display_data"
    }
   ],
   "source": [
    "sns.countplot(x='Year', data=sal)"
   ]
  },
  {
   "cell_type": "markdown",
   "metadata": {
    "colab_type": "text",
    "id": "24ZcGOKVGyoq"
   },
   "source": [
    "** Implement seaborn's distplot for BasePay of Year 2011 **"
   ]
  },
  {
   "cell_type": "code",
   "execution_count": 23,
   "metadata": {
    "colab": {},
    "colab_type": "code",
    "id": "iaq2FCLlGyor",
    "outputId": "99c9a068-bd5d-44bc-dc1f-405544326cee"
   },
   "outputs": [
    {
     "name": "stderr",
     "output_type": "stream",
     "text": [
      "/anaconda2/envs/py3/lib/python3.6/site-packages/scipy/stats/stats.py:1713: FutureWarning: Using a non-tuple sequence for multidimensional indexing is deprecated; use `arr[tuple(seq)]` instead of `arr[seq]`. In the future this will be interpreted as an array index, `arr[np.array(seq)]`, which will result either in an error or a different result.\n",
      "  return np.add.reduce(sorted[indexer] * weights, axis=axis) / sumval\n"
     ]
    },
    {
     "data": {
      "text/plain": [
       "<matplotlib.axes._subplots.AxesSubplot at 0x108fdbcc0>"
      ]
     },
     "execution_count": 23,
     "metadata": {},
     "output_type": "execute_result"
    },
    {
     "data": {
      "image/png": "[encoded data removed]",
      "text/plain": [
       "<Figure size 432x288 with 1 Axes>"
      ]
     },
     "metadata": {
      "needs_background": "light"
     },
     "output_type": "display_data"
    }
   ],
   "source": [
    "sns.distplot(sal[sal['Year'] == 2011]['BasePay'])"
   ]
  },
  {
   "cell_type": "markdown",
   "metadata": {
    "colab_type": "text",
    "id": "aveQv9rRGyou"
   },
   "source": [
    "** How about other Year **"
   ]
  },
  {
   "cell_type": "code",
   "execution_count": 24,
   "metadata": {
    "colab": {},
    "colab_type": "code",
    "id": "Wj1dnLUBGyou",
    "outputId": "6fef61a6-39c2-4acc-da1e-c811756892e3"
   },
   "outputs": [
    {
     "data": {
      "text/plain": [
       "<matplotlib.axes._subplots.AxesSubplot at 0x1a1dfdc588>"
      ]
     },
     "execution_count": 24,
     "metadata": {},
     "output_type": "execute_result"
    },
    {
     "data": {
      "image/png": "[encoded data removed]",
      "text/plain": [
       "<Figure size 432x288 with 1 Axes>"
      ]
     },
     "metadata": {
      "needs_background": "light"
     },
     "output_type": "display_data"
    }
   ],
   "source": [
    "sns.distplot(sal[sal['Year'] == 2012]['BasePay'], hist=False, label='2012')\n",
    "sns.distplot(sal[sal['Year'] == 2011]['BasePay'], hist=False, label='2011')"
   ]
  },
  {
   "cell_type": "markdown",
   "metadata": {
    "colab_type": "text",
    "id": "Yk_thW1NGyo0"
   },
   "source": [
    "** Visualize top 5 Jobs with BasePay, Benefits and OvertimePay **"
   ]
  },
  {
   "cell_type": "code",
   "execution_count": 25,
   "metadata": {
    "colab": {},
    "colab_type": "code",
    "id": "55-N9qHEGyo3"
   },
   "outputs": [
    {
     "name": "stdout",
     "output_type": "stream",
     "text": [
      "Transit Operator                7036\n",
      "Special Nurse                   4389\n",
      "Registered Nurse                3736\n",
      "Public Svc Aide-Public Works    2518\n",
      "Police Officer 3                2421\n",
      "Name: JobTitle, dtype: int64\n"
     ]
    }
   ],
   "source": [
    "# Get top 5 jobs, you did it before\n",
    "top_5 = sal['JobTitle'].value_counts().head()\n",
    "print (top_5)"
   ]
  },
  {
   "cell_type": "code",
   "execution_count": 26,
   "metadata": {
    "colab": {},
    "colab_type": "code",
    "id": "gJhsXjsqGyo_",
    "outputId": "178a7c1a-0fa9-4944-8550-2837bfd381f5"
   },
   "outputs": [
    {
     "data": {
      "text/plain": [
       "Index(['Transit Operator', 'Special Nurse', 'Registered Nurse',\n",
       "       'Public Svc Aide-Public Works', 'Police Officer 3'],\n",
       "      dtype='object')"
      ]
     },
     "execution_count": 26,
     "metadata": {},
     "output_type": "execute_result"
    }
   ],
   "source": [
    "# Get name of top 5 jobs cause we want to filter out the others\n",
    "# top_5 is an pd.series so name of it is in index\n",
    "top_5_name = top_5.index\n",
    "top_5_name"
   ]
  },
  {
   "cell_type": "code",
   "execution_count": 27,
   "metadata": {
    "colab": {},
    "colab_type": "code",
    "id": "AuYC1vQpGypE",
    "outputId": "6012b85c-a077-4753-f4a8-42def5ed6891"
   },
   "outputs": [
    {
     "data": {
      "text/plain": [
       "0         False\n",
       "1         False\n",
       "2         False\n",
       "3         False\n",
       "4         False\n",
       "5         False\n",
       "6         False\n",
       "7         False\n",
       "8         False\n",
       "9         False\n",
       "10        False\n",
       "11        False\n",
       "12        False\n",
       "13        False\n",
       "14        False\n",
       "15        False\n",
       "16        False\n",
       "17        False\n",
       "18        False\n",
       "19        False\n",
       "20        False\n",
       "21        False\n",
       "22        False\n",
       "23        False\n",
       "24        False\n",
       "25        False\n",
       "26        False\n",
       "27        False\n",
       "28        False\n",
       "29        False\n",
       "          ...  \n",
       "148624    False\n",
       "148625     True\n",
       "148626    False\n",
       "148627    False\n",
       "148628    False\n",
       "148629    False\n",
       "148630    False\n",
       "148631    False\n",
       "148632    False\n",
       "148633    False\n",
       "148634    False\n",
       "148635    False\n",
       "148636    False\n",
       "148637    False\n",
       "148638    False\n",
       "148639    False\n",
       "148640    False\n",
       "148641    False\n",
       "148642    False\n",
       "148643    False\n",
       "148644    False\n",
       "148645    False\n",
       "148646    False\n",
       "148647    False\n",
       "148648    False\n",
       "148649    False\n",
       "148650    False\n",
       "148651    False\n",
       "148652    False\n",
       "148653    False\n",
       "Name: JobTitle, Length: 148654, dtype: bool"
      ]
     },
     "execution_count": 27,
     "metadata": {},
     "output_type": "execute_result"
    }
   ],
   "source": [
    "# When we need to filter, we use boolean index to make it done.\n",
    "# In this case, to generate boolean index we use function 'isin'\n",
    "# https://pandas.pydata.org/pandas-docs/stable/generated/pandas.DataFrame.isin.html\n",
    "# It returns True if row value is in top_5_name\n",
    "top_5_boolean_index = sal['JobTitle'].isin(top_5_name)\n",
    "top_5_boolean_index"
   ]
  },
  {
   "cell_type": "code",
   "execution_count": 34,
   "metadata": {
    "colab": {},
    "colab_type": "code",
    "id": "s8AK-1LnGypJ"
   },
   "outputs": [
    {
     "name": "stdout",
     "output_type": "stream",
     "text": [
      "            Id             EmployeeName                      JobTitle  \\\n",
      "36314    36315                Eric Neff              Police Officer 3   \n",
      "36317    36318           Timothy Gibson              Police Officer 3   \n",
      "36349    36350       Constantine Zachos              Police Officer 3   \n",
      "36478    36479              David Kucia              Police Officer 3   \n",
      "36527    36528              Ruby Martin              Registered Nurse   \n",
      "36575    36576            Robert Bonnet              Police Officer 3   \n",
      "36618    36619        Celerina Valiente              Registered Nurse   \n",
      "36659    36660            James Deignan              Police Officer 3   \n",
      "36671    36672            John Van Koll              Police Officer 3   \n",
      "36711    36712          Michael Simmons              Police Officer 3   \n",
      "36753    36754             Thomas Smith              Police Officer 3   \n",
      "36788    36789            Robert Porter              Police Officer 3   \n",
      "36789    36790           Edgar Gonzalez              Police Officer 3   \n",
      "36968    36969              Sean Rogers              Police Officer 3   \n",
      "37018    37019            Evelyn Ferrer              Registered Nurse   \n",
      "37019    37020          Charles Simpson              Police Officer 3   \n",
      "37041    37042            Nelia Basanes              Registered Nurse   \n",
      "37065    37066           Rodrigo Palaad              Registered Nurse   \n",
      "37072    37073        Oscar Carcelen Jr              Police Officer 3   \n",
      "37084    37085           Margarita Hill              Registered Nurse   \n",
      "37090    37091      Francis Vallesteros              Registered Nurse   \n",
      "37104    37105           Gloria Cornejo              Registered Nurse   \n",
      "37170    37171         Celerina Herrera              Registered Nurse   \n",
      "37180    37181            Edward Browne              Police Officer 3   \n",
      "37195    37196         Alexandra Medina              Police Officer 3   \n",
      "37205    37206          Dennis Martinez              Police Officer 3   \n",
      "37209    37210             Hsinmei Chen              Registered Nurse   \n",
      "37223    37224            Alec Cardenas              Police Officer 3   \n",
      "37237    37238            Michael Walsh              Police Officer 3   \n",
      "37264    37265          Steven Matthias              Police Officer 3   \n",
      "...        ...                      ...                           ...   \n",
      "148467  148468       Dario Crawford Jr.  Public Svc Aide-Public Works   \n",
      "148470  148471       Ruby Anne D Morris                 Special Nurse   \n",
      "148473  148474          John Brightbill  Public Svc Aide-Public Works   \n",
      "148481  148482          Evelyn Delapena                 Special Nurse   \n",
      "148490  148491          Naime M Abbushi  Public Svc Aide-Public Works   \n",
      "148516  148517        Victoria A Devore                 Special Nurse   \n",
      "148518  148519            Juan F Castro  Public Svc Aide-Public Works   \n",
      "148519  148520          Charles R Eagan  Public Svc Aide-Public Works   \n",
      "148523  148524             Debra L Cope                 Special Nurse   \n",
      "148525  148526         Yolanda J Milton  Public Svc Aide-Public Works   \n",
      "148526  148527   Nikitia Karon Hardwick                 Special Nurse   \n",
      "148528  148529  Tierney M Keane-Zirpolo  Public Svc Aide-Public Works   \n",
      "148529  148530           Leaotis Martin  Public Svc Aide-Public Works   \n",
      "148530  148531              Janet N Qiu  Public Svc Aide-Public Works   \n",
      "148531  148532          Jose D Bermudez  Public Svc Aide-Public Works   \n",
      "148534  148535         Carina L Johnson                 Special Nurse   \n",
      "148535  148536          Edenora F Sunga                 Special Nurse   \n",
      "148543  148544        Rosalyn J Stovall                 Special Nurse   \n",
      "148547  148548          Tera K Thompson  Public Svc Aide-Public Works   \n",
      "148565  148566        Carmelita S Lasat              Registered Nurse   \n",
      "148577  148578          Honesto E Cacho                 Special Nurse   \n",
      "148578  148579          Miguel P Lucana  Public Svc Aide-Public Works   \n",
      "148596  148597         Rowena T Ignacio              Registered Nurse   \n",
      "148605  148606          Edwina V Brinas              Registered Nurse   \n",
      "148608  148609       Elsa N Evangelista              Registered Nurse   \n",
      "148610  148611            Ruby S Martin                 Special Nurse   \n",
      "148613  148614          Nanette M Lloyd                 Special Nurse   \n",
      "148615  148616            Marilou P Gan              Registered Nurse   \n",
      "148621  148622           Kenneth Mackey              Transit Operator   \n",
      "148625  148626          Renato C Gurion              Registered Nurse   \n",
      "\n",
      "          BasePay  OvertimePay   OtherPay  Benefits   TotalPay  \\\n",
      "36314   109118.22     27043.59  109131.14  32140.44  245292.95   \n",
      "36317    95449.67      5481.28  148736.75  27377.58  249667.70   \n",
      "36349   102265.48      8524.03  112000.30  47492.33  222789.81   \n",
      "36478    99304.33     18181.32  111506.56  27819.75  228992.21   \n",
      "36527   174044.89       949.50   19811.98  58670.20  194806.37   \n",
      "36575   122024.60     69980.98   21810.42  35519.27  213816.00   \n",
      "36618   129121.08     39690.35   26351.59  52202.74  195163.02   \n",
      "36659   117171.26     82054.10   11199.35  34807.24  210424.71   \n",
      "36671   117171.44     87019.65    4150.65  36284.51  208341.74   \n",
      "36711   117162.68     76873.80   13344.07  35604.84  207380.55   \n",
      "36753   117162.66     52527.05   34915.73  36768.84  204605.44   \n",
      "36788   122033.33     61309.26   21565.52  34674.31  204908.11   \n",
      "36789   117162.71     84217.07    2309.91  35888.40  203689.69   \n",
      "36968   117162.69     75105.40    5083.77  35455.99  197351.86   \n",
      "37018   134022.00      7455.24   29975.26  59061.29  171452.50   \n",
      "37019   122024.57     47737.88   24917.73  35819.39  194680.18   \n",
      "37041   134022.00      8334.36   28857.93  58289.99  171214.29   \n",
      "37065   133533.60      8635.52   28722.12  57953.01  170891.24   \n",
      "37072   122033.32     51186.71   18510.65  36813.66  191730.68   \n",
      "37084   134022.00      5556.24   29945.47  58614.14  169523.71   \n",
      "37090   133850.12     24997.75   24113.22  45047.74  182961.09   \n",
      "37104   132417.60      8256.60   31867.20  55173.74  172541.40   \n",
      "37170   134022.00      6505.74   27334.34  58492.39  167862.08   \n",
      "37180   117162.70     66993.86    6328.94  35765.09  190485.50   \n",
      "37195   117171.44     72221.19     819.48  35784.08  190212.11   \n",
      "37205   117162.61     58741.39   14572.16  35342.53  190476.16   \n",
      "37209   134129.45      7028.80   32417.61  52145.49  173575.86   \n",
      "37223   121676.34     63333.06    6273.55  34007.00  191282.95   \n",
      "37237   117171.43     67533.51    4620.00  35486.20  189324.94   \n",
      "37264   117171.44     69696.26    1519.96  35483.54  188387.66   \n",
      "...           ...          ...        ...       ...        ...   \n",
      "148467     184.58         0.00       0.00      1.85     184.58   \n",
      "148470     150.45         0.00       0.00     34.73     150.45   \n",
      "148473     105.90         0.00       0.00     74.87     105.90   \n",
      "148481       0.00         0.00     139.71     35.49     139.71   \n",
      "148490     160.50         0.00       2.51      1.63     163.01   \n",
      "148516      82.43         0.00      16.49     22.23      98.92   \n",
      "148518     110.20         0.00       3.51      1.14     113.71   \n",
      "148519     110.20         0.00       3.51      1.14     113.71   \n",
      "148523      81.26         0.00       8.13     19.67      89.39   \n",
      "148525     104.90         0.00       2.46      1.07     107.36   \n",
      "148526      79.89         0.00       7.99     20.49      87.88   \n",
      "148528     104.90         0.00       0.00      1.05     104.90   \n",
      "148529     104.90         0.00       0.00      1.05     104.90   \n",
      "148530     104.90         0.00       0.00      1.05     104.90   \n",
      "148531     104.90         0.00       0.00      1.05     104.90   \n",
      "148534       0.00         0.00     101.50      1.02     101.50   \n",
      "148535      79.37         0.00       3.87     18.13      83.24   \n",
      "148543      79.99         0.00       0.00     16.44      79.99   \n",
      "148547      89.54         0.00       0.00      0.90      89.54   \n",
      "148565       0.00         0.00      57.52     11.85      57.52   \n",
      "148577      41.21         0.00       4.12     10.51      45.33   \n",
      "148578      55.10         0.00       0.00      0.55      55.10   \n",
      "148596       0.00         0.00      33.55      6.91      33.55   \n",
      "148605       0.00         0.00      28.49      5.86      28.49   \n",
      "148608      21.76         0.00       0.00      7.27      21.76   \n",
      "148610      21.22         0.00       0.00      4.99      21.22   \n",
      "148613      19.97         0.00       0.00      4.30      19.97   \n",
      "148615       0.00         0.00      19.27      3.97      19.27   \n",
      "148621       0.00         0.00      15.35      0.00      15.35   \n",
      "148625       0.00         0.00       6.00      1.24       6.00   \n",
      "\n",
      "        TotalPayBenefits  Year  Notes         Agency  Status  \n",
      "36314          277433.39  2012    NaN  San Francisco     NaN  \n",
      "36317          277045.28  2012    NaN  San Francisco     NaN  \n",
      "36349          270282.14  2012    NaN  San Francisco     NaN  \n",
      "36478          256811.96  2012    NaN  San Francisco     NaN  \n",
      "36527          253476.57  2012    NaN  San Francisco     NaN  \n",
      "36575          249335.27  2012    NaN  San Francisco     NaN  \n",
      "36618          247365.76  2012    NaN  San Francisco     NaN  \n",
      "36659          245231.95  2012    NaN  San Francisco     NaN  \n",
      "36671          244626.25  2012    NaN  San Francisco     NaN  \n",
      "36711          242985.39  2012    NaN  San Francisco     NaN  \n",
      "36753          241374.28  2012    NaN  San Francisco     NaN  \n",
      "36788          239582.42  2012    NaN  San Francisco     NaN  \n",
      "36789          239578.09  2012    NaN  San Francisco     NaN  \n",
      "36968          232807.85  2012    NaN  San Francisco     NaN  \n",
      "37018          230513.79  2012    NaN  San Francisco     NaN  \n",
      "37019          230499.57  2012    NaN  San Francisco     NaN  \n",
      "37041          229504.28  2012    NaN  San Francisco     NaN  \n",
      "37065          228844.25  2012    NaN  San Francisco     NaN  \n",
      "37072          228544.34  2012    NaN  San Francisco     NaN  \n",
      "37084          228137.85  2012    NaN  San Francisco     NaN  \n",
      "37090          228008.83  2012    NaN  San Francisco     NaN  \n",
      "37104          227715.14  2012    NaN  San Francisco     NaN  \n",
      "37170          226354.47  2012    NaN  San Francisco     NaN  \n",
      "37180          226250.59  2012    NaN  San Francisco     NaN  \n",
      "37195          225996.19  2012    NaN  San Francisco     NaN  \n",
      "37205          225818.69  2012    NaN  San Francisco     NaN  \n",
      "37209          225721.35  2012    NaN  San Francisco     NaN  \n",
      "37223          225289.95  2012    NaN  San Francisco     NaN  \n",
      "37237          224811.14  2012    NaN  San Francisco     NaN  \n",
      "37264          223871.20  2012    NaN  San Francisco     NaN  \n",
      "...                  ...   ...    ...            ...     ...  \n",
      "148467            186.43  2014    NaN  San Francisco     NaN  \n",
      "148470            185.18  2014    NaN  San Francisco     NaN  \n",
      "148473            180.77  2014    NaN  San Francisco     NaN  \n",
      "148481            175.20  2014    NaN  San Francisco     NaN  \n",
      "148490            164.64  2014    NaN  San Francisco     NaN  \n",
      "148516            121.15  2014    NaN  San Francisco     NaN  \n",
      "148518            114.85  2014    NaN  San Francisco     NaN  \n",
      "148519            114.85  2014    NaN  San Francisco     NaN  \n",
      "148523            109.06  2014    NaN  San Francisco     NaN  \n",
      "148525            108.43  2014    NaN  San Francisco     NaN  \n",
      "148526            108.37  2014    NaN  San Francisco     NaN  \n",
      "148528            105.95  2014    NaN  San Francisco     NaN  \n",
      "148529            105.95  2014    NaN  San Francisco     NaN  \n",
      "148530            105.95  2014    NaN  San Francisco     NaN  \n",
      "148531            105.95  2014    NaN  San Francisco     NaN  \n",
      "148534            102.52  2014    NaN  San Francisco     NaN  \n",
      "148535            101.37  2014    NaN  San Francisco     NaN  \n",
      "148543             96.43  2014    NaN  San Francisco     NaN  \n",
      "148547             90.44  2014    NaN  San Francisco     NaN  \n",
      "148565             69.37  2014    NaN  San Francisco     NaN  \n",
      "148577             55.84  2014    NaN  San Francisco     NaN  \n",
      "148578             55.65  2014    NaN  San Francisco     NaN  \n",
      "148596             40.46  2014    NaN  San Francisco     NaN  \n",
      "148605             34.35  2014    NaN  San Francisco     NaN  \n",
      "148608             29.03  2014    NaN  San Francisco     NaN  \n",
      "148610             26.21  2014    NaN  San Francisco     NaN  \n",
      "148613             24.27  2014    NaN  San Francisco     NaN  \n",
      "148615             23.24  2014    NaN  San Francisco     NaN  \n",
      "148621             15.35  2014    NaN  San Francisco     NaN  \n",
      "148625              7.24  2014    NaN  San Francisco     NaN  \n",
      "\n",
      "[20100 rows x 13 columns]\n"
     ]
    }
   ],
   "source": [
    "# Now, it's time to select top 5 jobs\n",
    "sal_top_5 = sal[top_5_boolean_index]\n",
    "print(sal_top_5)\n",
    "\n",
    "# We just need mean value base on JobTitle so we groupby 'JobTitle' and apply mean()\n",
    "sal2 = sal_top_5.groupby('JobTitle').mean()"
   ]
  },
  {
   "cell_type": "code",
   "execution_count": 29,
   "metadata": {
    "colab": {},
    "colab_type": "code",
    "id": "yR-RWKRwGypN",
    "outputId": "bcf86915-a7ed-47dd-8e74-4dca35601071"
   },
   "outputs": [
    {
     "data": {
      "text/html": [
       "<div>\n",
       "<style scoped>\n",
       "    .dataframe tbody tr th:only-of-type {\n",
       "        vertical-align: middle;\n",
       "    }\n",
       "\n",
       "    .dataframe tbody tr th {\n",
       "        vertical-align: top;\n",
       "    }\n",
       "\n",
       "    .dataframe thead th {\n",
       "        text-align: right;\n",
       "    }\n",
       "</style>\n",
       "<table border=\"1\" class=\"dataframe\">\n",
       "  <thead>\n",
       "    <tr style=\"text-align: right;\">\n",
       "      <th></th>\n",
       "      <th>Id</th>\n",
       "      <th>BasePay</th>\n",
       "      <th>OvertimePay</th>\n",
       "      <th>OtherPay</th>\n",
       "      <th>Benefits</th>\n",
       "      <th>TotalPay</th>\n",
       "      <th>TotalPayBenefits</th>\n",
       "      <th>Year</th>\n",
       "      <th>Notes</th>\n",
       "      <th>Status</th>\n",
       "    </tr>\n",
       "    <tr>\n",
       "      <th>JobTitle</th>\n",
       "      <th></th>\n",
       "      <th></th>\n",
       "      <th></th>\n",
       "      <th></th>\n",
       "      <th></th>\n",
       "      <th></th>\n",
       "      <th></th>\n",
       "      <th></th>\n",
       "      <th></th>\n",
       "      <th></th>\n",
       "    </tr>\n",
       "  </thead>\n",
       "  <tbody>\n",
       "    <tr>\n",
       "      <th>Police Officer 3</th>\n",
       "      <td>79009.017348</td>\n",
       "      <td>108508.662621</td>\n",
       "      <td>16418.062615</td>\n",
       "      <td>10428.363371</td>\n",
       "      <td>32829.713693</td>\n",
       "      <td>134906.890909</td>\n",
       "      <td>167736.604601</td>\n",
       "      <td>2012.966543</td>\n",
       "      <td>NaN</td>\n",
       "      <td>NaN</td>\n",
       "    </tr>\n",
       "    <tr>\n",
       "      <th>Public Svc Aide-Public Works</th>\n",
       "      <td>109674.599285</td>\n",
       "      <td>8091.876070</td>\n",
       "      <td>60.017744</td>\n",
       "      <td>103.270087</td>\n",
       "      <td>1379.748050</td>\n",
       "      <td>8242.309452</td>\n",
       "      <td>9622.057502</td>\n",
       "      <td>2013.068705</td>\n",
       "      <td>NaN</td>\n",
       "      <td>NaN</td>\n",
       "    </tr>\n",
       "    <tr>\n",
       "      <th>Registered Nurse</th>\n",
       "      <td>82183.598501</td>\n",
       "      <td>102650.396486</td>\n",
       "      <td>4204.840575</td>\n",
       "      <td>9147.593983</td>\n",
       "      <td>35950.834170</td>\n",
       "      <td>115700.594866</td>\n",
       "      <td>151651.429036</td>\n",
       "      <td>2012.990096</td>\n",
       "      <td>NaN</td>\n",
       "      <td>NaN</td>\n",
       "    </tr>\n",
       "    <tr>\n",
       "      <th>Special Nurse</th>\n",
       "      <td>102828.995215</td>\n",
       "      <td>29929.166718</td>\n",
       "      <td>651.723372</td>\n",
       "      <td>2628.778551</td>\n",
       "      <td>3210.342240</td>\n",
       "      <td>33161.934723</td>\n",
       "      <td>36372.276963</td>\n",
       "      <td>2013.002734</td>\n",
       "      <td>NaN</td>\n",
       "      <td>NaN</td>\n",
       "    </tr>\n",
       "    <tr>\n",
       "      <th>Transit Operator</th>\n",
       "      <td>93992.083997</td>\n",
       "      <td>51772.154465</td>\n",
       "      <td>11143.260866</td>\n",
       "      <td>2244.580567</td>\n",
       "      <td>27355.597533</td>\n",
       "      <td>64711.146917</td>\n",
       "      <td>92066.744450</td>\n",
       "      <td>2013.030841</td>\n",
       "      <td>NaN</td>\n",
       "      <td>NaN</td>\n",
       "    </tr>\n",
       "  </tbody>\n",
       "</table>\n",
       "</div>"
      ],
      "text/plain": [
       "                                         Id        BasePay   OvertimePay  \\\n",
       "JobTitle                                                                   \n",
       "Police Officer 3               79009.017348  108508.662621  16418.062615   \n",
       "Public Svc Aide-Public Works  109674.599285    8091.876070     60.017744   \n",
       "Registered Nurse               82183.598501  102650.396486   4204.840575   \n",
       "Special Nurse                 102828.995215   29929.166718    651.723372   \n",
       "Transit Operator               93992.083997   51772.154465  11143.260866   \n",
       "\n",
       "                                  OtherPay      Benefits       TotalPay  \\\n",
       "JobTitle                                                                  \n",
       "Police Officer 3              10428.363371  32829.713693  134906.890909   \n",
       "Public Svc Aide-Public Works    103.270087   1379.748050    8242.309452   \n",
       "Registered Nurse               9147.593983  35950.834170  115700.594866   \n",
       "Special Nurse                  2628.778551   3210.342240   33161.934723   \n",
       "Transit Operator               2244.580567  27355.597533   64711.146917   \n",
       "\n",
       "                              TotalPayBenefits         Year  Notes  Status  \n",
       "JobTitle                                                                    \n",
       "Police Officer 3                 167736.604601  2012.966543    NaN     NaN  \n",
       "Public Svc Aide-Public Works       9622.057502  2013.068705    NaN     NaN  \n",
       "Registered Nurse                 151651.429036  2012.990096    NaN     NaN  \n",
       "Special Nurse                     36372.276963  2013.002734    NaN     NaN  \n",
       "Transit Operator                  92066.744450  2013.030841    NaN     NaN  "
      ]
     },
     "execution_count": 29,
     "metadata": {},
     "output_type": "execute_result"
    }
   ],
   "source": [
    "# Let's see we got now\n",
    "sal2.head()"
   ]
  },
  {
   "cell_type": "code",
   "execution_count": 30,
   "metadata": {
    "colab": {},
    "colab_type": "code",
    "id": "lGtCSa7DGypR"
   },
   "outputs": [],
   "source": [
    "# To make the plot job easy and nice, we only keep needed columns ['BasePay', 'Benefits', 'OvertimePay' ]\n",
    "# One more thing, to select more than one column at a time, we use this syntax\n",
    "# sal[['list', 'of', 'coloums', 'here']]\n",
    "sal2 = sal2[['BasePay', 'Benefits', 'OvertimePay' ]]"
   ]
  },
  {
   "cell_type": "code",
   "execution_count": 33,
   "metadata": {
    "colab": {},
    "colab_type": "code",
    "id": "cOU5I31OGypS",
    "outputId": "a05967d8-5cd5-4cb8-b26f-5c404b17c5d7"
   },
   "outputs": [
    {
     "data": {
      "text/plain": [
       "<matplotlib.axes._subplots.AxesSubplot at 0x1a1c32f710>"
      ]
     },
     "execution_count": 33,
     "metadata": {},
     "output_type": "execute_result"
    },
    {
     "data": {
      "image/png": "[encoded data removed]",
      "text/plain": [
       "<Figure size 576x576 with 1 Axes>"
      ]
     },
     "metadata": {
      "needs_background": "light"
     },
     "output_type": "display_data"
    }
   ],
   "source": [
    "# Ready to plot\n",
    "sal2.plot(kind='barh', figsize=(8, 8))"
   ]
  },
  {
   "cell_type": "code",
   "execution_count": null,
   "metadata": {
    "colab": {},
    "colab_type": "code",
    "id": "hNO3Q6ZbGypX"
   },
   "outputs": [],
   "source": []
  },
  {
   "cell_type": "markdown",
   "metadata": {
    "colab_type": "text",
    "id": "UqxT8l-qGypZ"
   },
   "source": [
    "# Great Job!"
   ]
  }
 ],
 "metadata": {
  "colab": {
   "name": "Week1_Lab_work-Solution.ipynb",
   "provenance": [],
   "version": "0.3.2"
  },
  "kernelspec": {
   "display_name": "Python 3",
   "language": "python",
   "name": "python3"
  },
  "language_info": {
   "codemirror_mode": {
    "name": "ipython",
    "version": 3
   },
   "file_extension": ".py",
   "mimetype": "text/x-python",
   "name": "python",
   "nbconvert_exporter": "python",
   "pygments_lexer": "ipython3",
   "version": "3.6.7"
  }
 },
 "nbformat": 4,
 "nbformat_minor": 1
}
